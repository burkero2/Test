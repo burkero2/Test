{
  "nbformat": 4,
  "nbformat_minor": 0,
  "metadata": {
    "colab": {
      "name": "NumPy - Unit 01 - File for Ronan to test around the notebook.ipynb",
      "provenance": [],
      "collapsed_sections": [],
      "toc_visible": true
    },
    "kernelspec": {
      "name": "python383jvsc74a57bd0b3ba2566441a7c06988d0923437866b63cedc61552a5af99d1f4fb67d367b25f",
      "display_name": "Python 3.8.3 64-bit ('base': conda)"
    },
    "language_info": {
      "name": "python",
      "version": "3.8.3"
    },
    "accelerator": "GPU"
  },
  "cells": [
    {
      "cell_type": "markdown",
      "metadata": {
        "id": "BZWMLtAOvRXL"
      },
      "source": [
        "<img src=\"https://raw.githubusercontent.com/numpy/numpy/181f273a59744d58f90f45d953a3285484c72cba/branding/logo/primary/numpylogo.svg\" width=\"25%\" height=\"25%\" />"
      ]
    },
    {
      "cell_type": "markdown",
      "metadata": {
        "id": "SoWVo5csafaS"
      },
      "source": [
        "# NumPy - Unit 01 Ronan Burke\n",
        "\n"
      ]
    },
    {
      "cell_type": "markdown",
      "metadata": {
        "id": "-fYCxIJfhPwF"
      },
      "source": [
        "## Lesson Learning Outcome"
      ]
    },
    {
      "cell_type": "markdown",
      "metadata": {
        "id": "ZKAhSxNvhTg0"
      },
      "source": [
        "* **NumPy Lesson is made of 03 units.**\n",
        "* By the end of this lesson, you should be able to:\n",
        "  * Understand what a NumPy array is\n",
        "  * Handle NumPy arrays\n",
        "  * Visualize images as NumPy arrays\n",
        "\n",
        "---"
      ]
    },
    {
      "cell_type": "markdown",
      "metadata": {
        "id": "Ndq4Kg-yhxKm"
      },
      "source": [
        "## Unit Objectives"
      ]
    },
    {
      "cell_type": "markdown",
      "metadata": {
        "id": "LiujW2ORafaX"
      },
      "source": [
        "* Understand what a NumPy **array** is\n",
        "* Experiment with array **builtin methods**\n",
        "* Use array **methods and attributes**\n",
        "\n"
      ]
    },
    {
      "cell_type": "markdown",
      "metadata": {
        "id": "QRr9AthgafaZ"
      },
      "source": [
        "---"
      ]
    },
    {
      "cell_type": "markdown",
      "metadata": {
        "id": "TXeFM9FuafaY"
      },
      "source": [
        "* NumPy stands for *Numerical Python*. It was first released in 1995 as *Numeric* and in 2006 was relabled as *NumPy*. \n",
        "* It is a general-purpose array-processing package, adding support for large, multi-dimensional arrays and matrices, along with a large collection of high-level mathematical functions.\n",
        "\n",
        "* **Why do we use NumPy?**\n",
        "  * It is a **Linear Algebra** Library and almost all of the libraries used in Data Science rely on NumPy as one of their main building blocks.\n",
        "  *  It is used **to process arrays that store values**, aka data. It facilitates math operations and their vectorization. This increases performance and speeds-up execution time. Handling data with NumPy array is faster than Python lists, specially with big data sets.\n",
        "  * NumPy array is also used to store and process **images**. TensorFlow, a ML library, uses NumPy arrays for training models."
      ]
    },
    {
      "cell_type": "markdown",
      "metadata": {
        "id": "dEMmPH7unLWn"
      },
      "source": [
        "---"
      ]
    },
    {
      "cell_type": "markdown",
      "metadata": {
        "id": "TyEc-YIIl8-s"
      },
      "source": [
        "## Disclaimer"
      ]
    },
    {
      "cell_type": "markdown",
      "metadata": {
        "id": "3wgRoDOjl8-y"
      },
      "source": [
        "* We encourage you to:\n",
        "  * Add **code cells and try it out** other possibilities, ie.: play around with parameters values in a function/method, or consider additional function parameters etc.\n",
        "  * Also, **add your own comment** in the cells. It can help you to consolidate the learning. \n",
        "\n",
        "* Notebook Challenge\n",
        "  * At the end of the unit notebook, there is a challenge section.\n",
        "  * **Do the challenge** in the provided cell, then **run the test**.\n",
        "  * Only when the tests for **all challenges are passed**, **click submit button**.\n",
        "\n",
        "* Functions and Methods Parameters \n",
        "  * For any package presented in this course, ee will not study in detail all possible functions/methods parameters. We will cover the most common parameters used at Data Science. \n",
        "  * You may seek additional in the package documentation. The studied packages are open source\n",
        "  * **For NumPy the link is [here](https://numpy.org/)**."
      ]
    },
    {
      "cell_type": "markdown",
      "metadata": {
        "id": "opdb1HWIl8-z"
      },
      "source": [
        "---"
      ]
    },
    {
      "cell_type": "markdown",
      "metadata": {
        "id": "3hmB6wo1afaZ"
      },
      "source": [
        "## Import Package for Learning"
      ]
    },
    {
      "cell_type": "markdown",
      "metadata": {
        "id": "W15F1h8Cafaa"
      },
      "source": [
        "* Colab offers a session with a set of packages already installed. To check which packages are installed type in a code cell **!pip freeze** and run it. In case NumPy is not installed, you may type and run in a code cell **!pip install numpy**\n",
        "* NumPy should be already incluced in this set of packages. You will just need to import it. "
      ]
    },
    {
      "cell_type": "code",
      "metadata": {
        "id": "XrgSs9DCafaa"
      },
      "source": [
        "import numpy as np"
      ],
      "execution_count": 3,
      "outputs": []
    },
    {
      "cell_type": "markdown",
      "metadata": {
        "id": "xxqw3evSafab"
      },
      "source": [
        "---"
      ]
    },
    {
      "cell_type": "markdown",
      "metadata": {
        "id": "1fUuwjqHafab"
      },
      "source": [
        "## Array"
      ]
    },
    {
      "cell_type": "markdown",
      "metadata": {
        "id": "8brTIqsjMUms"
      },
      "source": [
        "![Types of Arrays.jpg](data:image/jpeg;base64,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)"
      ]
    },
    {
      "cell_type": "markdown",
      "metadata": {
        "id": "kUcP74juafab"
      },
      "source": [
        "* An **array** is the foundation of NumPy. It is defined as a grid of values, either numeric or another data type. \n",
        "  * It comes as a vector or matrix, where vector is a 1-d array, and matrix is 2-d (or n dimensional) array. A matrix can also have have 1 row x 1 column.\n",
        "* An array is **useful** because it helps to organize data in a grid. With this structure, elements can easily be sorted or searched.\n",
        "* We can create a 1-d array based on a python list:\n",
        "\n",
        "**Task:** Finish the following line of code to create this *1d list*: \n",
        "```\n",
        "[7, 9, 88, 4621]\n",
        "```\n",
        "\n",
        "\n"
      ]
    },
    {
      "cell_type": "code",
      "metadata": {
        "id": "B0jb4L3Zafac",
        "colab": {
          "base_uri": "https://localhost:8080/"
        },
        "outputId": "88ca7128-eae3-4873-8406-43e97b6a2fe5"
      },
      "source": [
        "my_list = [...]\n",
        "my_list"
      ],
      "execution_count": null,
      "outputs": [
        {
          "output_type": "execute_result",
          "data": {
            "text/plain": [
              "[7, 9, 88, 4621]"
            ]
          },
          "metadata": {
            "tags": []
          },
          "execution_count": 34
        }
      ]
    },
    {
      "cell_type": "code",
      "metadata": {
        "id": "vEEzF64hK3_D",
        "colab": {
          "base_uri": "https://localhost:8080/"
        },
        "outputId": "30e1d328-0929-41be-921f-1c20c7a0018a"
      },
      "source": [
        "type(my_list)"
      ],
      "execution_count": null,
      "outputs": [
        {
          "output_type": "execute_result",
          "data": {
            "text/plain": [
              "list"
            ]
          },
          "metadata": {
            "tags": []
          },
          "execution_count": 35
        }
      ]
    },
    {
      "cell_type": "markdown",
      "metadata": {
        "id": "LLlFlGdJrM6F"
      },
      "source": [
        "* To create an array from the above list, use **np.array()** and parse the list\n",
        "* Please note below 1 bracket before the first item. That indicates it is a **1-d array**."
      ]
    },
    {
      "cell_type": "code",
      "metadata": {
        "id": "UID5jyt4afad",
        "colab": {
          "base_uri": "https://localhost:8080/"
        },
        "outputId": "07fd20e5-020c-41c5-8c19-2fd8466bee09"
      },
      "source": [
        "arr = np.array(my_list)\n",
        "arr"
      ],
      "execution_count": null,
      "outputs": [
        {
          "output_type": "execute_result",
          "data": {
            "text/plain": [
              "array([   7,    9,   88, 4621])"
            ]
          },
          "metadata": {
            "tags": []
          },
          "execution_count": 20
        }
      ]
    },
    {
      "cell_type": "markdown",
      "metadata": {
        "id": "rdsi7otDafae"
      },
      "source": [
        "* Just a side note\n",
        "  * You don't have necessarily to pass the list as a variable at np.array() function, \n",
        "  * You can write the list directly if you prefer, for example: np.array([7,9,88,4621])\n",
        "  * Both will create the same array"
      ]
    },
    {
      "cell_type": "markdown",
      "metadata": {
        "id": "J9KD85u-afae"
      },
      "source": [
        "* An array can **handle** numbers (integer, float etc), strings (text), timestamps (dates)."
      ]
    },
    {
      "cell_type": "code",
      "metadata": {
        "id": "kMT4MrSEafae",
        "colab": {
          "base_uri": "https://localhost:8080/"
        },
        "outputId": "d18ae026-844e-4a77-cf6f-6866132da502"
      },
      "source": [
        "my_list = ['text','label_example',55,150,'final_text_example']\n",
        "arr = np.array(my_list)\n",
        "arr"
      ],
      "execution_count": null,
      "outputs": [
        {
          "output_type": "execute_result",
          "data": {
            "text/plain": [
              "array(['text', 'label_example', '55', '150', 'final_text_example'],\n",
              "      dtype='<U18')"
            ]
          },
          "metadata": {
            "tags": []
          },
          "execution_count": 23
        }
      ]
    },
    {
      "cell_type": "markdown",
      "metadata": {
        "id": "eQpfd0Vnafaf"
      },
      "source": [
        "* If your list has more than 1 dimension, you can create a **2-d array**\n",
        "\n",
        "**Task:** Finish the following line of code to create this *2d list*: \n",
        "\n",
        "\n",
        "```\n",
        "[ [10, 80, 77], [99, 99, 99], [777, 999, 787] ]\n",
        "```\n",
        "\n",
        "\n"
      ]
    },
    {
      "cell_type": "code",
      "metadata": {
        "id": "HN-ckXuiafaf",
        "colab": {
          "base_uri": "https://localhost:8080/"
        },
        "outputId": "a8a0d03f-9117-4da9-9c5a-ca885edd298d"
      },
      "source": [
        ""
      ],
      "execution_count": 1,
      "outputs": [
        {
          "output_type": "execute_result",
          "data": {
            "text/plain": [
              "[[Ellipsis], [Ellipsis], [Ellipsis]]"
            ]
          },
          "metadata": {
            "tags": []
          },
          "execution_count": 1
        }
      ]
    },
    {
      "cell_type": "markdown",
      "metadata": {
        "id": "wGxs0IwEwlp4"
      },
      "source": [
        "**Task:** Use np.array() to create your NumPy array from my_list.\n",
        "\n",
        "Your output should look like this:\n",
        "```\n",
        "array([[ 10,  80,  77],\n",
        "       [ 99,  99,  99],\n",
        "       [777, 999, 787]])\n",
        "```\n"
      ]
    },
    {
      "cell_type": "code",
      "metadata": {
        "id": "M1gntM_Eafaf"
      },
      "source": [
        "# write your code here"
      ],
      "execution_count": null,
      "outputs": []
    },
    {
      "cell_type": "markdown",
      "metadata": {
        "id": "FL3ExE21UQp9"
      },
      "source": [
        "  * Please note the **2 brackets** before the first item. That indicates it is a **2-d array**.\n",
        "  * A two dimensional array is said to have two axes\n",
        "  * The example below has axes both of which have a length of 3 e.g. Three rows and three columns"
      ]
    },
    {
      "cell_type": "markdown",
      "metadata": {
        "id": "UTP_q-cfUVKj"
      },
      "source": [
        "\n",
        "\n",
        "---\n",
        "\n"
      ]
    },
    {
      "cell_type": "markdown",
      "metadata": {
        "id": "LbusOBguxZbH"
      },
      "source": [
        "* Although you can create an array from a python list of ***multiple data types*** it is recommended that you do not\n",
        "  * An array is most efficient when the data type within it is homogeneous\n",
        "  * Arrays are faster and more memory efficient than Python lists which becomes very important when dealing with big data sets\n",
        "* The example below shows a 1-d array where its data type is categorical"
      ]
    },
    {
      "cell_type": "code",
      "metadata": {
        "id": "WUm3lXM2x-0Y",
        "colab": {
          "base_uri": "https://localhost:8080/"
        },
        "outputId": "70bb6b31-2f24-466c-8093-1026497bb5b9"
      },
      "source": [
        "words = np.array(['bacon', 'egg', 'spam'])\n",
        "words"
      ],
      "execution_count": null,
      "outputs": [
        {
          "output_type": "execute_result",
          "data": {
            "text/plain": [
              "array(['bacon', 'egg', 'spam'], dtype='<U5')"
            ]
          },
          "metadata": {
            "tags": []
          },
          "execution_count": 39
        }
      ]
    },
    {
      "cell_type": "markdown",
      "metadata": {
        "id": "uFwMclT9xkFV"
      },
      "source": [
        "**Task:** In the cell below and using 3 lines of code\n",
        "  * Create a list (my_2dlist), 2 rows x 2 columns, where the elements are 'A','B', 'C', 'D'.\n",
        "  * Create a NumPy array (arr) from my_2dlist\n",
        "  * Parse your array\n",
        "\n",
        "Your output should look like this:\n",
        "```\n",
        "array([['A', 'B'],\n",
        "       ['C', 'D']], dtype='<U1')\n",
        "```\n",
        "\n"
      ]
    },
    {
      "cell_type": "code",
      "metadata": {
        "id": "gO9yxHc4xkNp",
        "colab": {
          "base_uri": "https://localhost:8080/"
        },
        "outputId": "eed08de6-896f-4fe5-eed2-9a26911da8fa"
      },
      "source": [
        "my_2dlist = ... # 2-d python list\n",
        "arr = ...\n",
        "arr"
      ],
      "execution_count": null,
      "outputs": [
        {
          "output_type": "execute_result",
          "data": {
            "text/plain": [
              "Ellipsis"
            ]
          },
          "metadata": {
            "tags": []
          },
          "execution_count": 40
        }
      ]
    },
    {
      "cell_type": "markdown",
      "metadata": {
        "id": "X--pV_Rwafah"
      },
      "source": [
        "---"
      ]
    },
    {
      "cell_type": "markdown",
      "metadata": {
        "id": "4h2HeuPSafah"
      },
      "source": [
        "## Built-in methods to generate arrays"
      ]
    },
    {
      "cell_type": "markdown",
      "metadata": {
        "id": "fBHQx9xTg1Be"
      },
      "source": [
        "![Numpy Array Methods.jpg](data:image/jpeg;base64,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)"
      ]
    },
    {
      "cell_type": "markdown",
      "metadata": {
        "id": "QWx6P_iAjcW5"
      },
      "source": [
        "**1. np.arange()**\n",
        "\n"
      ]
    },
    {
      "cell_type": "markdown",
      "metadata": {
        "id": "-sPgQthkafai"
      },
      "source": [
        "* You can **generate data for your arrays** using built-in methods\n",
        "* You can quickly create an **evenly spaced** array of numbers using **np.arange()**. \n",
        "    * You may provide 3 arguments: the start, stop and step size of values interval. \n",
        "    * Stop argument is not **inclusive**. \n",
        "    * This is similar to using range() in Python "
      ]
    },
    {
      "cell_type": "code",
      "metadata": {
        "id": "Zbg_OIHTsujd",
        "colab": {
          "base_uri": "https://localhost:8080/"
        },
        "outputId": "01d36b68-42d4-4b9c-a044-11988f822256"
      },
      "source": [
        "arr = np.arange(start=1,stop=9,step=1)\n",
        "arr"
      ],
      "execution_count": null,
      "outputs": [
        {
          "output_type": "execute_result",
          "data": {
            "text/plain": [
              "array([1, 2, 3, 4, 5, 6, 7, 8])"
            ]
          },
          "metadata": {
            "tags": []
          },
          "execution_count": 7
        }
      ]
    },
    {
      "cell_type": "markdown",
      "metadata": {
        "id": "iB95_Lk6KkV-"
      },
      "source": [
        "* Note that 9 is not included, it is not inclusive of the stop value. \n",
        "* In this case, if you want the number 9, you should add 1 and consider stop = 10"
      ]
    },
    {
      "cell_type": "code",
      "metadata": {
        "id": "oGlP7jYeKgmn",
        "colab": {
          "base_uri": "https://localhost:8080/"
        },
        "outputId": "e6b66e3f-93ca-4880-aeef-cbf5e201727a"
      },
      "source": [
        "arr = np.arange(start=1,stop=10,step=1)\n",
        "arr"
      ],
      "execution_count": null,
      "outputs": [
        {
          "output_type": "execute_result",
          "data": {
            "text/plain": [
              "array([1, 2, 3, 4, 5, 6, 7, 8, 9])"
            ]
          },
          "metadata": {
            "tags": []
          },
          "execution_count": 8
        }
      ]
    },
    {
      "cell_type": "markdown",
      "metadata": {
        "id": "W99BTftBKq2v"
      },
      "source": [
        "**Task** Use arange() to create the following output:\n",
        "\n",
        "\n",
        "```\n",
        "array([ 0,  5, 10, 15, 20, 25, 30, 35, 40])\n",
        "```\n",
        "\n",
        "\n"
      ]
    },
    {
      "cell_type": "code",
      "metadata": {
        "id": "U7UUGzrvafai"
      },
      "source": [
        "# Write your code here"
      ],
      "execution_count": null,
      "outputs": []
    },
    {
      "cell_type": "markdown",
      "metadata": {
        "id": "9SY6cymdiJ0X"
      },
      "source": [
        "**Task** Use arange() to create the following output\n",
        "\n",
        "\n",
        "```\n",
        "array([1. , 1.5, 2. , 2.5, 3. , 3.5, 4. , 4.5, 5. , 5.5, 6. , 6.5, 7. ,\n",
        "       7.5, 8. , 8.5])\n",
        "```\n",
        "\n"
      ]
    },
    {
      "cell_type": "code",
      "metadata": {
        "id": "JXdxvRUvK4Kg"
      },
      "source": [
        "# Write your code here"
      ],
      "execution_count": null,
      "outputs": []
    },
    {
      "cell_type": "markdown",
      "metadata": {
        "id": "7nJo40q2wFUB"
      },
      "source": [
        "RONAN: Can we use np.arange to create multi-dimensional arrays?\n"
      ]
    },
    {
      "cell_type": "markdown",
      "metadata": {
        "id": "615MPi9Cjz_O"
      },
      "source": [
        "\n",
        "\n",
        "---\n",
        "\n"
      ]
    },
    {
      "cell_type": "markdown",
      "metadata": {
        "id": "Gt2Cab8-jvfU"
      },
      "source": [
        "**2. np.zeros() / np.ones()**"
      ]
    },
    {
      "cell_type": "markdown",
      "metadata": {
        "id": "Y5qlCNFmafaj"
      },
      "source": [
        "* You can also create an **array of zeros using np.zeros()**. Just pass the shape of the desired array. The example below has a shape of 2 x 3 and is a 2-d array\n",
        "* The shape is a tuple and the amount of numbers indicate the array dimension.\n",
        "* Please note the 2 brackets before the first item. That indicates it is a 2-d array.\n",
        "* The zeros() method can take optional parameters such as dtype for the data type. Including dtype=int would mean specifying the zero as an integer rather than the default float. "
      ]
    },
    {
      "cell_type": "code",
      "metadata": {
        "id": "t5iDgT1oafaj"
      },
      "source": [
        "arr = np.zeros(shape=(2,3))\n",
        "arr"
      ],
      "execution_count": null,
      "outputs": []
    },
    {
      "cell_type": "markdown",
      "metadata": {
        "id": "DegTEB6lafak"
      },
      "source": [
        "* The example below has shape of 2 x 2 x 3 and is a **3-d array** of zeros\n",
        "* Please note the **3 brackets** before the first item. That indicates it is a 3-d array.\n",
        "\n",
        "**Task** Use np.zeros() to create the following 3d array:\n",
        "\n",
        "\n",
        "```\n",
        "array([[[0., 0., 0.],\n",
        "        [0., 0., 0.]],\n",
        "\n",
        "       [[0., 0., 0.],\n",
        "        [0., 0., 0.]]])\n",
        "```\n",
        "\n"
      ]
    },
    {
      "cell_type": "code",
      "metadata": {
        "id": "17XleZl6afak"
      },
      "source": [
        "# Write your code here"
      ],
      "execution_count": null,
      "outputs": []
    },
    {
      "cell_type": "markdown",
      "metadata": {
        "id": "69qKLCoNafak"
      },
      "source": [
        "**Task** Follow a similar pattern to np.zeros to create **array of all ones using np.ones()**. \n",
        "\n",
        "The output should look like this:\n",
        "\n",
        "```\n",
        "array([[1., 1., 1., 1., 1.],\n",
        "       [1., 1., 1., 1., 1.]])\n",
        "```\n",
        "\n"
      ]
    },
    {
      "cell_type": "code",
      "metadata": {
        "id": "CYDiO4pvafal"
      },
      "source": [
        "# Write your code here"
      ],
      "execution_count": null,
      "outputs": []
    },
    {
      "cell_type": "markdown",
      "metadata": {
        "id": "H9HZYnFmlSAp"
      },
      "source": [
        "\n",
        "\n",
        "---\n",
        "\n"
      ]
    },
    {
      "cell_type": "markdown",
      "metadata": {
        "id": "sFWm4snolLeQ"
      },
      "source": [
        "**3. np.eyes()**"
      ]
    },
    {
      "cell_type": "markdown",
      "metadata": {
        "id": "toJWcblNnuxj"
      },
      "source": [
        "![Identity Matrix.jpg](data:image/jpeg;base64,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)"
      ]
    },
    {
      "cell_type": "markdown",
      "metadata": {
        "id": "ifdkqxS3afal"
      },
      "source": [
        "* You can also create an **identity matrix using np.eye()**, that is a square matrix that has ones along its main diagonal and zeros everywhere else. \n"
      ]
    },
    {
      "cell_type": "markdown",
      "metadata": {
        "id": "cpvEFeCvovvF"
      },
      "source": [
        "![Identity Matrix Copy.jpg](data:image/jpeg;base64,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)"
      ]
    },
    {
      "cell_type": "markdown",
      "metadata": {
        "id": "QbmqDIwAo3pV"
      },
      "source": [
        "* An identity matrix is to matrices what the number 1 is to numbers. If you multiply a matrix by its same shaped identity matrix then it is unchanged. This is analogous to multiplying a number by one. \n",
        "* The parameter N indicates the matrix length. The example below is an identity matrix of shape 4 x 4."
      ]
    },
    {
      "cell_type": "code",
      "metadata": {
        "id": "r7PuzIdaafal",
        "colab": {
          "base_uri": "https://localhost:8080/"
        },
        "outputId": "ec1e5723-d478-469d-ec47-9e5924089424"
      },
      "source": [
        "arrEye = np.eye(N=4)\n",
        "arrEye"
      ],
      "execution_count": 14,
      "outputs": [
        {
          "output_type": "execute_result",
          "data": {
            "text/plain": [
              "array([[1., 0., 0., 0.],\n",
              "       [0., 1., 0., 0.],\n",
              "       [0., 0., 1., 0.],\n",
              "       [0., 0., 0., 1.]])"
            ]
          },
          "metadata": {
            "tags": []
          },
          "execution_count": 14
        }
      ]
    },
    {
      "cell_type": "markdown",
      "metadata": {
        "id": "adEZYWhYveBD"
      },
      "source": [
        "**Challenge Task** RONAN: I started messing with the matrix to see if I could do something with it. Can we figure out some exercise here to help sts understand what the purpose of the matrix is? Can we incorporate np.arange() here to create the initial array here? Multi-dimensional"
      ]
    },
    {
      "cell_type": "code",
      "metadata": {
        "id": "xJ3Lc7Lluce7"
      },
      "source": [
        "arr1 = [[6., 4., 6., 9.], [3., 4., 6., 7.], [8., 4., 2., 1.], [6., 1., 4., 1.]]"
      ],
      "execution_count": 15,
      "outputs": []
    },
    {
      "cell_type": "code",
      "metadata": {
        "id": "IKnGPIsiurW2",
        "outputId": "2fa7bd11-5ac3-453a-e14e-5a44fc44bd0b",
        "colab": {
          "base_uri": "https://localhost:8080/"
        }
      },
      "source": [
        "arr1 = np.array(arr1)\n",
        "arr1"
      ],
      "execution_count": 16,
      "outputs": [
        {
          "output_type": "execute_result",
          "data": {
            "text/plain": [
              "array([[6., 4., 6., 9.],\n",
              "       [3., 4., 6., 7.],\n",
              "       [8., 4., 2., 1.],\n",
              "       [6., 1., 4., 1.]])"
            ]
          },
          "metadata": {
            "tags": []
          },
          "execution_count": 16
        }
      ]
    },
    {
      "cell_type": "code",
      "metadata": {
        "id": "oNAjuolRuImB",
        "outputId": "c5b37083-395d-4ec4-f86a-b202dbebad78",
        "colab": {
          "base_uri": "https://localhost:8080/"
        }
      },
      "source": [
        "arrResult = arrEye * arr1\n",
        "arrResult"
      ],
      "execution_count": 17,
      "outputs": [
        {
          "output_type": "execute_result",
          "data": {
            "text/plain": [
              "array([[6., 0., 0., 0.],\n",
              "       [0., 4., 0., 0.],\n",
              "       [0., 0., 2., 0.],\n",
              "       [0., 0., 0., 1.]])"
            ]
          },
          "metadata": {
            "tags": []
          },
          "execution_count": 17
        }
      ]
    },
    {
      "cell_type": "code",
      "metadata": {
        "id": "nkX7NiAXvI2g"
      },
      "source": [
        "arrResult = arrEye * arrResult"
      ],
      "execution_count": 21,
      "outputs": []
    },
    {
      "cell_type": "markdown",
      "metadata": {
        "id": "5FsR7I3SwTWM"
      },
      "source": [
        "\n",
        "\n",
        "---\n",
        "\n"
      ]
    },
    {
      "cell_type": "markdown",
      "metadata": {
        "id": "ApwBziB9o_Yi"
      },
      "source": [
        "**4. np.linspace()**\n"
      ]
    },
    {
      "cell_type": "markdown",
      "metadata": {
        "id": "uq4Hdgt8afal"
      },
      "source": [
        "* A similar function to np.arange() is **np.linspace()**, but instead of step argument, there is num argument, **num** is the number of samples that need to be retrieved in that interval. \n",
        "  * You will provide as argument the start, end and **how many points you want in between**. \n",
        "  * Stop argument here is inclusive\n",
        "\n",
        "**Task:** Before clicking run, what do you think will be the output from the below code? Click run to see if you're correct.\n"
      ]
    },
    {
      "cell_type": "code",
      "metadata": {
        "id": "TF2cIMIqafam",
        "colab": {
          "base_uri": "https://localhost:8080/"
        },
        "outputId": "19809766-e7e3-49be-c220-c1bbe15a4388"
      },
      "source": [
        "arr = np.linspace(start=10,stop=50,num=5)\n",
        "arr"
      ],
      "execution_count": null,
      "outputs": [
        {
          "output_type": "execute_result",
          "data": {
            "text/plain": [
              "array([10., 20., 30., 40., 50.])"
            ]
          },
          "metadata": {
            "tags": []
          },
          "execution_count": 12
        }
      ]
    },
    {
      "cell_type": "markdown",
      "metadata": {
        "id": "jCzcwt4PtkZo"
      },
      "source": [
        "**Task:** Create the following array output using np.linspace():\n",
        "\n",
        "\n",
        "```\n",
        "array([10.        , 14.44444444, 18.88888889, 23.33333333, 27.77777778,\n",
        "       32.22222222, 36.66666667, 41.11111111, 45.55555556, 50.        ])\n",
        "```\n",
        "\n"
      ]
    },
    {
      "cell_type": "code",
      "metadata": {
        "id": "MNkJGHnPtkit"
      },
      "source": [
        "# Write your code here"
      ],
      "execution_count": null,
      "outputs": []
    },
    {
      "cell_type": "markdown",
      "metadata": {
        "id": "GZ0N7KddyjT-"
      },
      "source": [
        "**Task:** Create the following array output using np.linspace():\n",
        "\n",
        "\n",
        "```\n",
        "array([-3., -2., -1.,  0.,  1.,  2.,  3.,  4.,  5.])\n",
        "```\n",
        "\n"
      ]
    },
    {
      "cell_type": "code",
      "metadata": {
        "id": "ON-Gx7qVyjdc"
      },
      "source": [
        "# Write your code here"
      ],
      "execution_count": null,
      "outputs": []
    },
    {
      "cell_type": "markdown",
      "metadata": {
        "id": "POW-saxiszen"
      },
      "source": [
        "**Challenge Task** Create the same array output using both np.linspace() and np.arange()?\n",
        "\n",
        "Your output should look like this:\n",
        "\n",
        "\n",
        "```\n",
        "array([10, 15, 20, 25, 30, 35, 40, 45, 50, 55, 60, 65, 70, 75, 80, 85, 90,\n",
        "       95])\n",
        "```\n",
        "\n"
      ]
    },
    {
      "cell_type": "code",
      "metadata": {
        "id": "WeXcBDv5tEpE"
      },
      "source": [
        "# Write your np.arange() code here"
      ],
      "execution_count": null,
      "outputs": []
    },
    {
      "cell_type": "code",
      "metadata": {
        "id": "kQg2ndY-thfK"
      },
      "source": [
        "# Write your np.linspace() code here"
      ],
      "execution_count": null,
      "outputs": []
    },
    {
      "cell_type": "markdown",
      "metadata": {
        "id": "EjjAaiwHwW1m"
      },
      "source": [
        "\n",
        "\n",
        "---\n",
        "\n"
      ]
    },
    {
      "cell_type": "markdown",
      "metadata": {
        "id": "Px7mtQcLsmir"
      },
      "source": [
        "**5. np.random.rand() / np.random.randn() / np.random.randint()**"
      ]
    },
    {
      "cell_type": "markdown",
      "metadata": {
        "id": "_xE_dfjuiDJ4"
      },
      "source": [
        "**5.1. np.random.rand()**"
      ]
    },
    {
      "cell_type": "markdown",
      "metadata": {
        "id": "Khev_qWlafan"
      },
      "source": [
        "* You can also create an array of a given shape with **random values from 0 to 1 using np.random.rand()**\n",
        "    * The arguments are the shape which you are creating\n",
        "    * Note: the values you will see after executing the code will likely differ from what you saw in the video, since it is randomly generated. "
      ]
    },
    {
      "cell_type": "code",
      "metadata": {
        "id": "XPkFN0m7afan",
        "colab": {
          "base_uri": "https://localhost:8080/"
        },
        "outputId": "7f8bf485-7e19-4952-a07c-c2723dcc6759"
      },
      "source": [
        "arr = np.random.rand(2,2)  # 2-d array\n",
        "arr"
      ],
      "execution_count": 12,
      "outputs": [
        {
          "output_type": "execute_result",
          "data": {
            "text/plain": [
              "array([[0.32475447, 0.42503679],\n",
              "       [0.60122166, 0.82494637]])"
            ]
          },
          "metadata": {
            "tags": []
          },
          "execution_count": 12
        }
      ]
    },
    {
      "cell_type": "markdown",
      "metadata": {
        "id": "At_zgQ8fLpZO"
      },
      "source": [
        "* You can create a 3-d array using np.random.rand(). Try it out below to create an array with shape 3,4,2"
      ]
    },
    {
      "cell_type": "code",
      "metadata": {
        "id": "SXtH3cOKafan",
        "colab": {
          "base_uri": "https://localhost:8080/"
        },
        "outputId": "e0c3c385-75b0-42c4-9427-191ac52a13d7"
      },
      "source": [
        "arr = np.random.rand( 3,4,2 ) # 3-d array\n",
        "arr"
      ],
      "execution_count": null,
      "outputs": [
        {
          "output_type": "execute_result",
          "data": {
            "text/plain": [
              "array([[[0.01419289, 0.38309031],\n",
              "        [0.90113296, 0.34934272],\n",
              "        [0.99435801, 0.13755024],\n",
              "        [0.73778209, 0.92251212]],\n",
              "\n",
              "       [[0.87327431, 0.03254434],\n",
              "        [0.7214546 , 0.13041109],\n",
              "        [0.67869182, 0.43102143],\n",
              "        [0.37362673, 0.70212151]],\n",
              "\n",
              "       [[0.11776907, 0.34865416],\n",
              "        [0.88218607, 0.35655801],\n",
              "        [0.11562593, 0.67411777],\n",
              "        [0.64244012, 0.70407306]]])"
            ]
          },
          "metadata": {
            "tags": []
          },
          "execution_count": 23
        }
      ]
    },
    {
      "cell_type": "markdown",
      "metadata": {
        "id": "mFJF7O4PeZUC"
      },
      "source": [
        "**Task** Create the following array output, with random value items, using np.random.rand():\n",
        "\n",
        "\n",
        "```\n",
        "array([[[0.67240246],\n",
        "        [0.46889417]],\n",
        "\n",
        "       [[0.93938933],\n",
        "        [0.02524877]],\n",
        "\n",
        "       [[0.50687614],\n",
        "        [0.48000812]],\n",
        "\n",
        "       [[0.45859453],\n",
        "        [0.22488099]]])\n",
        "```\n",
        "\n"
      ]
    },
    {
      "cell_type": "code",
      "metadata": {
        "id": "ZPwGjZb1eYBb"
      },
      "source": [
        "# Write your code here (Remember your values will be different to the example given)"
      ],
      "execution_count": 19,
      "outputs": []
    },
    {
      "cell_type": "markdown",
      "metadata": {
        "id": "1jOlJRdZfr-U"
      },
      "source": [
        "**Task** Create the following array output, with random value items, using np.random.rand():\n",
        "\n",
        "\n",
        "```\n",
        "array([[[0.97020023, 0.85012608, 0.97904291, 0.30420589, 0.73812311,\n",
        "         0.91296962],\n",
        "        [0.92974962, 0.46645011, 0.11588385, 0.13031595, 0.56684972,\n",
        "         0.52412283],\n",
        "        [0.04984385, 0.16121509, 0.76055196, 0.53638551, 0.66217046,\n",
        "         0.36150495],\n",
        "        [0.39871479, 0.07153709, 0.10171775, 0.06303929, 0.84918424,\n",
        "         0.42795084],\n",
        "        [0.658614  , 0.71806981, 0.00151138, 0.08490282, 0.34292838,\n",
        "         0.12338326]],\n",
        "\n",
        "       [[0.88345116, 0.72604989, 0.2174957 , 0.56921389, 0.62771652,\n",
        "         0.70676763],\n",
        "        [0.10548335, 0.32486934, 0.02875502, 0.01025755, 0.46363526,\n",
        "         0.14666836],\n",
        "        [0.55999069, 0.63683582, 0.21258702, 0.63878299, 0.96311532,\n",
        "         0.81602299],\n",
        "        [0.4952955 , 0.57312019, 0.39559736, 0.97269093, 0.69204171,\n",
        "         0.01064688],\n",
        "        [0.97742506, 0.79232222, 0.31752769, 0.33711242, 0.51932968,\n",
        "         0.16013157]]])\n",
        "```"
      ]
    },
    {
      "cell_type": "code",
      "metadata": {
        "id": "uwkUGeewfv-0"
      },
      "source": [
        "# Write your code here (Remember your values will be different to the example given)"
      ],
      "execution_count": 23,
      "outputs": []
    },
    {
      "cell_type": "markdown",
      "metadata": {
        "id": "VHepga4fiPaV"
      },
      "source": [
        "**5.2. np.random.randn()**"
      ]
    },
    {
      "cell_type": "markdown",
      "metadata": {
        "id": "UtsfBg1aafan"
      },
      "source": [
        "* You can also create an array of given shape from a **\"standard normal\" distribution using random.randn()**\n",
        "  * The argument is the shape you are interested\n",
        "  * A standard normal distribution is a normal distribution with a mean of zero and standard deviation of 1. We will get back to that in future sections of the course"
      ]
    },
    {
      "cell_type": "code",
      "metadata": {
        "id": "8DsGpA57afao",
        "outputId": "b38646e5-ceea-4801-d5d3-18deee0234c3",
        "colab": {
          "base_uri": "https://localhost:8080/"
        }
      },
      "source": [
        "arr = np.random.randn(8,2) # 2-d array with 8 rows and 2 columns\n",
        "arr"
      ],
      "execution_count": 27,
      "outputs": [
        {
          "output_type": "execute_result",
          "data": {
            "text/plain": [
              "array([[-0.31876494, -0.56584423],\n",
              "       [-0.41919085, -0.981639  ],\n",
              "       [-1.58584503, -0.65991432],\n",
              "       [-1.4177799 ,  0.42843491],\n",
              "       [-0.13759591, -0.68424623],\n",
              "       [-0.23572874,  0.11714498],\n",
              "       [ 1.77785451,  1.34391622],\n",
              "       [-0.75073201,  0.9319011 ]])"
            ]
          },
          "metadata": {
            "tags": []
          },
          "execution_count": 27
        }
      ]
    },
    {
      "cell_type": "markdown",
      "metadata": {
        "id": "ZSF_xShRL928"
      },
      "source": [
        "**Task** Create the following array output, with random value items, using np.random.randn():\n",
        "\n",
        "\n",
        "```\n",
        "array([-0.69473377,  0.25331392, -0.83829764, -0.75057142, -1.69308029,\n",
        "        0.78754634,  0.47309841,  1.01380705, -0.76697925, -2.68227409,\n",
        "       -2.37546839,  1.05314831,  0.58770254,  0.92465109, -0.03583781,\n",
        "        0.26250856, -1.23497169,  0.3433826 ,  1.8931686 , -0.18783935,\n",
        "       -0.25716952, -0.77810954, -0.81590694,  1.8608436 ,  0.31122805])\n",
        "```\n",
        "**Hint** There are 25 values.\n"
      ]
    },
    {
      "cell_type": "code",
      "metadata": {
        "id": "0_OnVLMQafao"
      },
      "source": [
        "# Write your code here (Remember your values will be different to the example given)"
      ],
      "execution_count": 28,
      "outputs": []
    },
    {
      "cell_type": "markdown",
      "metadata": {
        "id": "h_8b3cvliSJU"
      },
      "source": [
        "**5.3. np.random.randint()**"
      ]
    },
    {
      "cell_type": "markdown",
      "metadata": {
        "id": "xQUtD0yFafao"
      },
      "source": [
        "* You can also create random integers setting the interval and size using **np.random.randint()**\n",
        "  * The arguments for interval are: low (inclusive) and high (exclusive). \n",
        "  * Size is the output shape, it can be an integer or tuple."
      ]
    },
    {
      "cell_type": "code",
      "metadata": {
        "id": "UQxsQXJkafap",
        "colab": {
          "base_uri": "https://localhost:8080/"
        },
        "outputId": "2baa6dc0-5f8d-493d-916f-650fa0a14216"
      },
      "source": [
        "arr = np.random.randint(low=10,high=50,size=5) # 1-d array, shape: 5 elements\n",
        "arr "
      ],
      "execution_count": 29,
      "outputs": [
        {
          "output_type": "execute_result",
          "data": {
            "text/plain": [
              "array([49, 46, 19, 48, 15])"
            ]
          },
          "metadata": {
            "tags": []
          },
          "execution_count": 29
        }
      ]
    },
    {
      "cell_type": "markdown",
      "metadata": {
        "id": "zyJIAWK-zEKH"
      },
      "source": [
        "* You can create a 2-d array parsing a tuple with 2 elements for 'size' argument"
      ]
    },
    {
      "cell_type": "code",
      "metadata": {
        "id": "fHujQwoWafap",
        "outputId": "45513995-ec53-4370-f893-be6496ad6fd4",
        "colab": {
          "base_uri": "https://localhost:8080/"
        }
      },
      "source": [
        "arr = np.random.randint(low=250,high=888,size=(4,3)) # 2-d array, shape: 4 rows x 3 columns\n",
        "arr "
      ],
      "execution_count": 30,
      "outputs": [
        {
          "output_type": "execute_result",
          "data": {
            "text/plain": [
              "array([[786, 879, 476],\n",
              "       [615, 481, 844],\n",
              "       [476, 465, 275],\n",
              "       [841, 483, 279]])"
            ]
          },
          "metadata": {
            "tags": []
          },
          "execution_count": 30
        }
      ]
    },
    {
      "cell_type": "markdown",
      "metadata": {
        "id": "aF47BbN2zPjr"
      },
      "source": [
        "**Task** Create the following array output, with random output values between 250 and 888, using np.random.randint():\n",
        "\n",
        "```\n",
        "array([[[664, 655],\n",
        "        [841, 260],\n",
        "        [517, 628]],\n",
        "\n",
        "       [[557, 532],\n",
        "        [724, 580],\n",
        "        [876, 592]]])\n",
        "```\n",
        "\n",
        "**Hint** Note the 3 square brackets at the start."
      ]
    },
    {
      "cell_type": "code",
      "metadata": {
        "id": "S1GvShPTzVKa"
      },
      "source": [
        "# Write your code here (Remember your values will be different to the example given)"
      ],
      "execution_count": 2,
      "outputs": []
    },
    {
      "cell_type": "markdown",
      "metadata": {
        "id": "GogMpJeGafap"
      },
      "source": [
        "---"
      ]
    },
    {
      "cell_type": "markdown",
      "metadata": {
        "id": "rvZ_q91YkLME"
      },
      "source": [
        "**6. 'Seeding' Random Numbers**"
      ]
    },
    {
      "cell_type": "markdown",
      "metadata": {
        "id": "jxjgyy2Zafap"
      },
      "source": [
        "* Computers generate psuedo-random rather than truly random numbers as computers use algorithms. If you have the same starting conditions for an algorithm then you get the same output. \n",
        "* Therefore NumPy allows you to set this 'seed' value to generate 'random' numbers in a predictable fashion\n",
        "  * **Run the example below multiple times**\n",
        "  * **Note that the random values will change**"
      ]
    },
    {
      "cell_type": "code",
      "metadata": {
        "id": "HYm5Aelhafaq",
        "outputId": "9f336fe2-71c4-49c8-caee-4e7bcd90d784",
        "colab": {
          "base_uri": "https://localhost:8080/"
        }
      },
      "source": [
        "arr = np.random.randint(low=10,high=50,size=5)\n",
        "arr"
      ],
      "execution_count": 38,
      "outputs": [
        {
          "output_type": "execute_result",
          "data": {
            "text/plain": [
              "array([12, 10, 10, 37, 14])"
            ]
          },
          "metadata": {
            "tags": []
          },
          "execution_count": 38
        }
      ]
    },
    {
      "cell_type": "markdown",
      "metadata": {
        "id": "_M67WQblafaq"
      },
      "source": [
        "* You need to set **numpy seed** in order to get constant random values\n",
        "  * In a jupyter notebook code cell, you just have to add **np.seed()** before defining your array(s)\n",
        "  * The argument is seed, an integer. You can set any integer\n",
        "  * **Run multiple times the cell below and note the array values will be random and the same**"
      ]
    },
    {
      "cell_type": "code",
      "metadata": {
        "id": "jbGq7X4Cafaq",
        "outputId": "ae9146b4-70ba-4a26-d14f-a85c17194b53",
        "colab": {
          "base_uri": "https://localhost:8080/"
        }
      },
      "source": [
        "np.random.seed(seed=123)\n",
        "arr = np.random.randint(low=10,high=50,size=5)\n",
        "arr"
      ],
      "execution_count": 52,
      "outputs": [
        {
          "output_type": "execute_result",
          "data": {
            "text/plain": [
              "array([12, 38, 44, 48, 27])"
            ]
          },
          "metadata": {
            "tags": []
          },
          "execution_count": 52
        }
      ]
    },
    {
      "cell_type": "markdown",
      "metadata": {
        "id": "0RgKY-YWye48"
      },
      "source": [
        "* The effect of changing the seed, is that you will have different constant values\n",
        "* Try it out. Set a seed values and run the cell. Change the seed values and check the effect"
      ]
    },
    {
      "cell_type": "markdown",
      "metadata": {
        "id": "T68Bk8pNk57p"
      },
      "source": [
        "**Task** Set the initial seed to 721. Then create the following array output,  with random output values between 10 and 50, using np.random.randint(). :\n",
        "\n",
        "\n",
        "```\n",
        "array([27, 42, 44, 38, 27])\n",
        "```\n",
        "\n"
      ]
    },
    {
      "cell_type": "code",
      "metadata": {
        "id": "l4p8OKYEyodR",
        "outputId": "dbaaeccd-0c9f-409f-f306-1557fe914876",
        "colab": {
          "base_uri": "https://localhost:8080/"
        }
      },
      "source": [
        "np.random.seed(seed= 721)\n",
        "arr=np.random.randint(low=10, high=50, size=5)\n",
        "arr"
      ],
      "execution_count": 66,
      "outputs": [
        {
          "output_type": "execute_result",
          "data": {
            "text/plain": [
              "array([27, 42, 44, 38, 27])"
            ]
          },
          "metadata": {
            "tags": []
          },
          "execution_count": 66
        }
      ]
    },
    {
      "cell_type": "markdown",
      "metadata": {
        "id": "MIgdDjKDlqVV"
      },
      "source": [
        "**Knowledge Task** Reset your initial seed value a couple of times to random numbers (which you choose). When you're finished, reset the seed value to 721. What happens?"
      ]
    },
    {
      "cell_type": "markdown",
      "metadata": {
        "id": "fDasELvIafar"
      },
      "source": [
        "---"
      ]
    },
    {
      "cell_type": "markdown",
      "metadata": {
        "id": "ayLsyBGvl8N6"
      },
      "source": [
        "RONAN: I Stopped here"
      ]
    },
    {
      "cell_type": "markdown",
      "metadata": {
        "id": "RvwNZw9Gafar"
      },
      "source": [
        "## Array Methods"
      ]
    },
    {
      "cell_type": "markdown",
      "metadata": {
        "id": "pdKM6LAfafar"
      },
      "source": [
        "* You can reshape the array without changing the data within it using  **.reshape()** method.\n",
        "  * the example below shows a 1-d array, with 30 elements. "
      ]
    },
    {
      "cell_type": "code",
      "metadata": {
        "id": "32CnhlOGafar",
        "outputId": "cbad8224-e52d-4e92-bc7c-c244570d2eb1",
        "colab": {
          "base_uri": "https://localhost:8080/"
        }
      },
      "source": [
        "np.random.seed(seed=0)\n",
        "arr = np.random.randint(low=1,high=150,size=30)\n",
        "arr"
      ],
      "execution_count": 67,
      "outputs": [
        {
          "output_type": "execute_result",
          "data": {
            "text/plain": [
              "array([ 48, 118,  68, 104,  10,  22,  37,  88,  71,  89, 141,  59,  40,\n",
              "        88,  89,  82,  26,  78,  73,  10, 149, 116,  80,  83, 100,  30,\n",
              "       148, 148, 143,  33])"
            ]
          },
          "metadata": {
            "tags": []
          },
          "execution_count": 67
        }
      ]
    },
    {
      "cell_type": "markdown",
      "metadata": {
        "id": "wZ1lMuagafar"
      },
      "source": [
        "* You can reshape as 3 rows x 10 columns, transforming into a 2-d array\n",
        "  * the argument is the shape you are interested"
      ]
    },
    {
      "cell_type": "code",
      "metadata": {
        "id": "jm8eTe-zafas",
        "outputId": "418ba245-7b36-46e4-c80f-512fd3751014",
        "colab": {
          "base_uri": "https://localhost:8080/"
        }
      },
      "source": [
        "arr_reshaped = arr.reshape(3,10)  # 2-d array, 3 x 10\n",
        "arr_reshaped"
      ],
      "execution_count": 68,
      "outputs": [
        {
          "output_type": "execute_result",
          "data": {
            "text/plain": [
              "array([[ 48, 118,  68, 104,  10,  22,  37,  88,  71,  89],\n",
              "       [141,  59,  40,  88,  89,  82,  26,  78,  73,  10],\n",
              "       [149, 116,  80,  83, 100,  30, 148, 148, 143,  33]])"
            ]
          },
          "metadata": {
            "tags": []
          },
          "execution_count": 68
        }
      ]
    },
    {
      "cell_type": "markdown",
      "metadata": {
        "id": "GfHwNCspzA93"
      },
      "source": [
        "* When reshaping, the size should fit into the new shape. For example, considering the previous array, you can't reshape to 3 x 15"
      ]
    },
    {
      "cell_type": "code",
      "metadata": {
        "id": "Ctu8fQLdzBGe",
        "outputId": "55b0e338-f391-49b4-b616-cf841db02f57",
        "colab": {
          "base_uri": "https://localhost:8080/",
          "height": 181
        }
      },
      "source": [
        "arr_reshaped = arr.reshape(3,15)  # 2-d array, 3 x 15 ?????\n",
        "arr_reshaped"
      ],
      "execution_count": 69,
      "outputs": [
        {
          "output_type": "error",
          "ename": "ValueError",
          "evalue": "ignored",
          "traceback": [
            "\u001b[0;31m---------------------------------------------------------------------------\u001b[0m",
            "\u001b[0;31mValueError\u001b[0m                                Traceback (most recent call last)",
            "\u001b[0;32m<ipython-input-69-6fc50ea134bf>\u001b[0m in \u001b[0;36m<module>\u001b[0;34m()\u001b[0m\n\u001b[0;32m----> 1\u001b[0;31m \u001b[0marr_reshaped\u001b[0m \u001b[0;34m=\u001b[0m \u001b[0marr\u001b[0m\u001b[0;34m.\u001b[0m\u001b[0mreshape\u001b[0m\u001b[0;34m(\u001b[0m\u001b[0;36m3\u001b[0m\u001b[0;34m,\u001b[0m\u001b[0;36m15\u001b[0m\u001b[0;34m)\u001b[0m  \u001b[0;31m# 2-d array, 3 x 15 ?????\u001b[0m\u001b[0;34m\u001b[0m\u001b[0;34m\u001b[0m\u001b[0m\n\u001b[0m\u001b[1;32m      2\u001b[0m \u001b[0marr_reshaped\u001b[0m\u001b[0;34m\u001b[0m\u001b[0;34m\u001b[0m\u001b[0m\n",
            "\u001b[0;31mValueError\u001b[0m: cannot reshape array of size 30 into shape (3,15)"
          ]
        }
      ]
    },
    {
      "cell_type": "markdown",
      "metadata": {
        "id": "xc_4e-os3-OH"
      },
      "source": [
        "* You can then reshape to a 3-d array: 3 x 2 x 5"
      ]
    },
    {
      "cell_type": "code",
      "metadata": {
        "id": "MQP8Ac_V3-cJ",
        "outputId": "46f35a82-c0ca-414e-a3ea-661d2bc47ddc",
        "colab": {
          "base_uri": "https://localhost:8080/"
        }
      },
      "source": [
        "arr_reshaped = arr.reshape(3,2,5)  # 3-d array, 3x5x2\n",
        "arr_reshaped"
      ],
      "execution_count": 70,
      "outputs": [
        {
          "output_type": "execute_result",
          "data": {
            "text/plain": [
              "array([[[ 48, 118,  68, 104,  10],\n",
              "        [ 22,  37,  88,  71,  89]],\n",
              "\n",
              "       [[141,  59,  40,  88,  89],\n",
              "        [ 82,  26,  78,  73,  10]],\n",
              "\n",
              "       [[149, 116,  80,  83, 100],\n",
              "        [ 30, 148, 148, 143,  33]]])"
            ]
          },
          "metadata": {
            "tags": []
          },
          "execution_count": 70
        }
      ]
    },
    {
      "cell_type": "markdown",
      "metadata": {
        "id": "Z89Eo97T0Avz"
      },
      "source": [
        "* Think about a possibility to reshape this array to a 4-d array. Which numbers could you try?\n",
        "  * Remember that the number 1 is also a possibility"
      ]
    },
    {
      "cell_type": "code",
      "metadata": {
        "id": "-p8RR6Vp0A4o"
      },
      "source": [
        "arr_reshaped = arr.reshape(3,2,5)  # 4-d array ???\n",
        "arr_reshaped"
      ],
      "execution_count": null,
      "outputs": []
    },
    {
      "cell_type": "markdown",
      "metadata": {
        "id": "r_ua4FTQ0mIk"
      },
      "source": [
        "---"
      ]
    },
    {
      "cell_type": "markdown",
      "metadata": {
        "id": "KJOc_UNj2MUu"
      },
      "source": [
        "* Now you know you can reshape an array into a different dimension, the parameters are integers (1-d) or tuple of integers (2-d or more) and the numbers are the values are the dimensions\n",
        "* However, you may want to **reshape to a unknown dimension**.\n",
        "  * For that you just place -1.\n",
        "\n",
        "* Imagine if for the following 1-d array  "
      ]
    },
    {
      "cell_type": "code",
      "metadata": {
        "id": "NuXCkeUlpmDA"
      },
      "source": [
        "arr = np.arange(start=1,stop=9,step=1)\n",
        "print(f\"array: \\n {arr} \\n\\n\"\n",
        "      f\"array shape: {arr.shape}\")"
      ],
      "execution_count": null,
      "outputs": []
    },
    {
      "cell_type": "markdown",
      "metadata": {
        "id": "wlXXWM-5pwWm"
      },
      "source": [
        "* Now imagine if you want to reshape to a 2-d, with 1 column. \n",
        "  * You do not need to specify the rows."
      ]
    },
    {
      "cell_type": "code",
      "metadata": {
        "id": "b9K_rbhOafau"
      },
      "source": [
        "arr_reshape = arr.reshape(-1,1)  \n",
        "# it is a 2-d array, because you passed a tuple with 2 items\n",
        "# the -1 means 'unknown', so you dont know how many rows this 2-d array will have\n",
        "# the 1 means you want a single column\n",
        "\n",
        "print(f\"array: \\n {arr_reshape} \\n\\n\"\n",
        "      f\"array shape: {arr_reshape.shape}\")"
      ],
      "execution_count": null,
      "outputs": []
    },
    {
      "cell_type": "markdown",
      "metadata": {
        "id": "dz9p1buIrK1V"
      },
      "source": [
        "* Try it out if you want to reshape to a 2-d, with 2 columns. And you are not in a position to inform the rows."
      ]
    },
    {
      "cell_type": "code",
      "metadata": {
        "id": "yfJent2W07aw"
      },
      "source": [
        "arr_reshape = arr.reshape( .....) \n",
        "\n",
        "print(f\"array: \\n {arr_reshape} \\n\\n\"\n",
        "      f\"array shape: {arr_reshape.shape}\")"
      ],
      "execution_count": null,
      "outputs": []
    },
    {
      "cell_type": "markdown",
      "metadata": {
        "id": "iK7Ad9I1r6eU"
      },
      "source": [
        "* The previous example worked because the original array had 8 elements and that fits into a 4 x 2. However, if you tried to reshape with 3 columns, that wouldnt work"
      ]
    },
    {
      "cell_type": "code",
      "metadata": {
        "id": "WzEFtibrsUSV"
      },
      "source": [
        "arr_reshape = arr.reshape(-1,3)  \n",
        "# arr has 8 elements, it is not possible to reshape in 3 columns"
      ],
      "execution_count": null,
      "outputs": []
    },
    {
      "cell_type": "markdown",
      "metadata": {
        "id": "h85QNLDXrcLL"
      },
      "source": [
        "* At this moment reshape methods in arrays may seem not useful, but these are used when training models based on images. You will encounter this in the upcoming Machine Learning lessons\n"
      ]
    },
    {
      "cell_type": "markdown",
      "metadata": {
        "id": "NA5OPKYTrVR6"
      },
      "source": [
        "---"
      ]
    },
    {
      "cell_type": "markdown",
      "metadata": {
        "id": "2Wwu6a7Cafaw"
      },
      "source": [
        "* There can be a situation where you have a multidimensional array and want to transform to a 1-d array. You can use **.flatten()** for it\n",
        "* Consider a 2-d array"
      ]
    },
    {
      "cell_type": "code",
      "metadata": {
        "id": "xOQEN_Glafaw"
      },
      "source": [
        "np.random.seed(seed=0)\n",
        "arr = np.random.randint(low=1,high=150,size=(2,5))\n",
        "arr"
      ],
      "execution_count": null,
      "outputs": []
    },
    {
      "cell_type": "markdown",
      "metadata": {
        "id": "zj-NAucHvbub"
      },
      "source": [
        "* You can flatten, you will noticed it became a 1-d array. No arguments are needed for .flatten() method"
      ]
    },
    {
      "cell_type": "code",
      "metadata": {
        "id": "vFzq56iwafax"
      },
      "source": [
        "arr_flatten = arr.flatten()\n",
        "arr_flatten"
      ],
      "execution_count": null,
      "outputs": []
    },
    {
      "cell_type": "markdown",
      "metadata": {
        "id": "tRY8e5mGvyCy"
      },
      "source": [
        "* Alternatively, you can get the same effect using **.reshape()**, with argument as -1"
      ]
    },
    {
      "cell_type": "code",
      "metadata": {
        "id": "oHjIjplPafay"
      },
      "source": [
        "arr_reshape = arr.reshape(-1)\n",
        "arr_reshape"
      ],
      "execution_count": null,
      "outputs": []
    },
    {
      "cell_type": "markdown",
      "metadata": {
        "id": "Ul95Mqz-afay"
      },
      "source": [
        "---"
      ]
    },
    {
      "cell_type": "markdown",
      "metadata": {
        "id": "PLAkm3G2afaz"
      },
      "source": [
        "* Min and Max values can be accessed using **.min()** and **.max()** methods."
      ]
    },
    {
      "cell_type": "markdown",
      "metadata": {
        "id": "fhRfv52ttFtg"
      },
      "source": [
        "* Let's recap the what is the array \"arr\" content"
      ]
    },
    {
      "cell_type": "code",
      "metadata": {
        "id": "NVzcrcEjtLdH"
      },
      "source": [
        "arr"
      ],
      "execution_count": null,
      "outputs": []
    },
    {
      "cell_type": "markdown",
      "metadata": {
        "id": "9WNZa3hD16f7"
      },
      "source": [
        "* You can get the min value with .min()"
      ]
    },
    {
      "cell_type": "code",
      "metadata": {
        "id": "6MTrapqiafaz"
      },
      "source": [
        "arr.min()"
      ],
      "execution_count": null,
      "outputs": []
    },
    {
      "cell_type": "markdown",
      "metadata": {
        "id": "is631sDa1-wg"
      },
      "source": [
        "* Try your self with **.max()** to grab the max value"
      ]
    },
    {
      "cell_type": "code",
      "metadata": {
        "id": "ryrhclZ_afa0"
      },
      "source": [
        "arr....."
      ],
      "execution_count": null,
      "outputs": []
    },
    {
      "cell_type": "markdown",
      "metadata": {
        "id": "Ae0VwXF5afa0"
      },
      "source": [
        "* You can determine the **index position** of the minimum or maximum value in the array along a particular axis using the **argmin()** and **argmax()** methods\n",
        "* Quick recap on arr"
      ]
    },
    {
      "cell_type": "code",
      "metadata": {
        "id": "BKuV7vgz2Kqz"
      },
      "source": [
        "arr"
      ],
      "execution_count": null,
      "outputs": []
    },
    {
      "cell_type": "markdown",
      "metadata": {
        "id": "DIFbejik2THR"
      },
      "source": [
        "* You know already what is the min value. To get the index from position from use .argmin()"
      ]
    },
    {
      "cell_type": "code",
      "metadata": {
        "id": "y0PjjrVCafa1"
      },
      "source": [
        "arr.argmin()"
      ],
      "execution_count": null,
      "outputs": []
    },
    {
      "cell_type": "markdown",
      "metadata": {
        "id": "215jrlY02bW9"
      },
      "source": [
        "* It is your time to use .argmax() to get the index position from the max value"
      ]
    },
    {
      "cell_type": "code",
      "metadata": {
        "id": "Nad9p99Zafa0"
      },
      "source": [
        "arr....."
      ],
      "execution_count": null,
      "outputs": []
    },
    {
      "cell_type": "markdown",
      "metadata": {
        "id": "ZsHDFm0u8j-d"
      },
      "source": [
        "* If you want the index position for the minimum value, per column, you just add axis=0 to .argmin()\n",
        "  * Note this array has 4 columns"
      ]
    },
    {
      "cell_type": "code",
      "metadata": {
        "id": "rWWB4VkE8sjy"
      },
      "source": [
        "arr.argmin(axis=0)"
      ],
      "execution_count": null,
      "outputs": []
    },
    {
      "cell_type": "markdown",
      "metadata": {
        "id": "soGF-gbd8srx"
      },
      "source": [
        "* If you want the index position for the minimum value, per row, you just add axis=1 to .argmin(). Try yourself\n",
        "  * Note this array has 2 rows"
      ]
    },
    {
      "cell_type": "code",
      "metadata": {
        "id": "RY31a9OT8sx5"
      },
      "source": [
        "arr.argmin(axis=....)"
      ],
      "execution_count": null,
      "outputs": []
    },
    {
      "cell_type": "markdown",
      "metadata": {
        "id": "NKVe_6Nlafa1"
      },
      "source": [
        "---"
      ]
    },
    {
      "cell_type": "markdown",
      "metadata": {
        "id": "klg2VbL5afa1"
      },
      "source": [
        "## Array Attributes"
      ]
    },
    {
      "cell_type": "markdown",
      "metadata": {
        "id": "1Yj1rNmUafa1"
      },
      "source": [
        "*  You can check the shape and type of a NumPy array using, respectively, the attributes **.shape** and **.dtype**\n",
        "* Consider a 2-d array (5x2) made using np.arange()"
      ]
    },
    {
      "cell_type": "code",
      "metadata": {
        "id": "AbAy9vlUafa1"
      },
      "source": [
        "arr = np.arange(start=1,stop=11,step=1).reshape(5,2)\n",
        "arr"
      ],
      "execution_count": null,
      "outputs": []
    },
    {
      "cell_type": "markdown",
      "metadata": {
        "id": "4CSHqR95wMrK"
      },
      "source": [
        "* You can check its shape and dtype"
      ]
    },
    {
      "cell_type": "code",
      "metadata": {
        "id": "Qsx4CmUTwMz3"
      },
      "source": [
        "print(\n",
        "    f\"* Array:\\n {arr} \\n\\n\"\n",
        "    f\"* Array shape: \\n {arr.shape} \\n\\n\"\n",
        "    f\"* Array type: \\n {arr.dtype}\"\n",
        "    )"
      ],
      "execution_count": null,
      "outputs": []
    },
    {
      "cell_type": "markdown",
      "metadata": {
        "id": "wmmx4QaEAAq-"
      },
      "source": [
        "* In case your array contains float, you will see float as the  output for .dtype method"
      ]
    },
    {
      "cell_type": "code",
      "metadata": {
        "id": "9Lrsqz6j_2-1"
      },
      "source": [
        "np.random.seed(seed=0)\n",
        "arr = np.random.randn(2,4)\n",
        "arr"
      ],
      "execution_count": null,
      "outputs": []
    },
    {
      "cell_type": "code",
      "metadata": {
        "id": "l2EXqcaqAL6Y"
      },
      "source": [
        "print(\n",
        "    f\"* Array:\\n {arr} \\n\\n\"\n",
        "    f\"* Array shape: \\n {arr.shape} \\n\\n\"\n",
        "    f\"* Array type: \\n {arr.dtype}\"\n",
        "    )"
      ],
      "execution_count": null,
      "outputs": []
    },
    {
      "cell_type": "markdown",
      "metadata": {
        "id": "fj3fneHeafa2"
      },
      "source": [
        "---"
      ]
    },
    {
      "cell_type": "markdown",
      "metadata": {
        "id": "A32zuu2Mafa2"
      },
      "source": [
        "# Challenges"
      ]
    },
    {
      "cell_type": "markdown",
      "metadata": {
        "id": "Sn1iK7P8dq9I"
      },
      "source": [
        "<img src=\"https://www.learningpeople.com/static/1e2d1b1046220ce9fa0222b5790b86bc/b3853/code-institute.png\" width=\"15%\"  />\n",
        "\n"
      ]
    },
    {
      "cell_type": "markdown",
      "metadata": {
        "id": "uhVBi57NH7Jr"
      },
      "source": [
        "## Import packages needed to tackle the challenges\n",
        "#### Please, just run the cell. \n",
        "#### Don't change the code below or you could potentitally breakdown your challenge experience :)\n"
      ]
    },
    {
      "cell_type": "code",
      "metadata": {
        "id": "PIzVQzZMH3Ha",
        "cellView": "form"
      },
      "source": [
        "#@title\n",
        "import numpy as np\n",
        "\n",
        "import ast\n",
        "import yaml\n",
        "from IPython.core.magic import register_cell_magic, register_line_magic\n",
        "\n",
        "@register_cell_magic\n",
        "def run_and_save(line, cell):\n",
        "    'Run and save python code block to a file'\n",
        "    lines = []\n",
        "    with open(line, 'wt') as fd:\n",
        "        fd.write(cell)\n",
        "    # convert the cell into a list and ignore empty\n",
        "    # lines if there are any, and ignore lines starting with #\n",
        "    c = [itm for itm in cell.split('\\n') if itm and not itm.startswith('#')]\n",
        "    \n",
        "    if len(c):\n",
        "      c = c[-1] # only interested in the last item in list\n",
        "      if not c.startswith('print'):\n",
        "        d = f'print({c})'\n",
        "        cc = compile(d, line, 'eval')\n",
        "      \n",
        "      code = compile(cell, line, 'exec')\n",
        "      exec(code, globals())\n",
        "      try:\n",
        "        exec(cc, globals())\n",
        "      except:\n",
        "        pass\n",
        "    else:\n",
        "      pass\n",
        "\n",
        "@register_line_magic\n",
        "def run_challenge_tests(line):\n",
        "  '''\n",
        "  Download the test file, then open and execute it, then delete the test file\n",
        "  use like:\n",
        "  %run_challenge_tests challenge-1-tests.py \n",
        "  '''\n",
        "  !wget -q https://john-ecommerce.s3-eu-west-1.amazonaws.com/tests/{line}\n",
        "  exec(compile(open(line).read(), line, 'exec'))\n",
        "\n",
        "\n",
        "@register_line_magic\n",
        "def submit_tests(line):\n",
        "  '''\n",
        "  f is file name\n",
        "  c is the number of challenges, used to make up the results dict\n",
        "  use like\n",
        "  %submit_tests sub-challenge-1a-tests.py 3\n",
        "  '''\n",
        "  f, c = line.split(' ')\n",
        "  c = int(c)\n",
        "  results = {f\"challenge_{itm + 1}\": {} for itm in range(c)}\n",
        "  !wget -q https://john-ecommerce.s3-eu-west-1.amazonaws.com/tests/{f}\n",
        "  exec(compile(open(f).read(), f, 'exec'))\n",
        "  \n",
        "  # print('CHALLENGE RESULT', results)\n",
        "  print(yaml.dump(results, default_flow_style=False))\n"
      ],
      "execution_count": null,
      "outputs": []
    },
    {
      "cell_type": "markdown",
      "metadata": {
        "id": "UEtL2Geh5SM-"
      },
      "source": [
        "## Challenge Credentials"
      ]
    },
    {
      "cell_type": "markdown",
      "metadata": {
        "id": "i0aDuLsp5Zqi"
      },
      "source": [
        "* (here the student will provide the crendentials, so John can save the unit test results properly)"
      ]
    },
    {
      "cell_type": "code",
      "metadata": {
        "id": "V5B9i8Ip5ZzL"
      },
      "source": [
        ""
      ],
      "execution_count": null,
      "outputs": []
    },
    {
      "cell_type": "markdown",
      "metadata": {
        "id": "1YXIfJ37HfMa"
      },
      "source": [
        "## Challenge 01"
      ]
    },
    {
      "cell_type": "markdown",
      "metadata": {
        "id": "NxQFmwFaHfMe"
      },
      "source": [
        "* Create an array called **arr_01**. \n",
        "* It should be a 1-d array, evenly spaced array of numbers, from -37 to -22; both numbers are inclusive (aka: both should be in the array). Your step size has to be 1.\n",
        "  * It is not allowed to define the array manually, ie.: using np.array() function and parse a Python list. You should consider a built-in method.\n",
        "* In a print() statement, display the array"
      ]
    },
    {
      "cell_type": "code",
      "metadata": {
        "id": "pggUZgQSHfMe"
      },
      "source": [
        "%%run_and_save challenge_1.py\n",
        "# Do not delete the line of code above\n",
        "# Write your solution in this cell\n",
        "\n",
        "arr_01 = np.arange(start=-37,stop=-21,step=1)\n",
        "print(arr_01)"
      ],
      "execution_count": null,
      "outputs": []
    },
    {
      "cell_type": "markdown",
      "metadata": {
        "id": "bcG-NXRoyn1l"
      },
      "source": [
        "* **Challenge 1 Unit Test** \n",
        "  * Run this cell to run a Unit Test for Challenge 01\n",
        "  * Do not adjust the content of this cell "
      ]
    },
    {
      "cell_type": "code",
      "metadata": {
        "id": "YaZxaWNd0Kla"
      },
      "source": [
        "%run_challenge_tests unit-1-challenge-1-tests.py"
      ],
      "execution_count": null,
      "outputs": []
    },
    {
      "cell_type": "markdown",
      "metadata": {
        "id": "H6ZFJMjeLI_F"
      },
      "source": [
        "---"
      ]
    },
    {
      "cell_type": "markdown",
      "metadata": {
        "id": "-hjNgE6Rafa3"
      },
      "source": [
        "## Challenge 02"
      ]
    },
    {
      "cell_type": "markdown",
      "metadata": {
        "id": "MUa06CByafa3"
      },
      "source": [
        "* Define the numpy seed=1.\n",
        "* Create a variable called **arr_02**, and in one line and using one NumPy function, create a 2-d array, 4 x 4, with random integers, where the lowest value is 1 and the max 100 (inclusive).\n",
        "* In a print() statement, display the array"
      ]
    },
    {
      "cell_type": "code",
      "metadata": {
        "id": "VFh7V4mfwV_c"
      },
      "source": [
        "%%run_and_save challenge_2.py\n",
        "# Do not delete the line of code above\n",
        "# Write your solution in this cell\n",
        "\n",
        "np.random.seed(seed=1)\n",
        "arr_02 = np.random.randint(low=1,high=101,size=(4,4))\n",
        "print(arr_02)"
      ],
      "execution_count": null,
      "outputs": []
    },
    {
      "cell_type": "markdown",
      "metadata": {
        "id": "4a8zLrqKzcQd"
      },
      "source": [
        "* **Challenge 2 Unit Test** \n",
        "  * Run this cell to run a Unit Test for Challenge 01\n",
        "  * Do not adjust the content of this cell "
      ]
    },
    {
      "cell_type": "code",
      "metadata": {
        "id": "GfW-o7ADEFhZ"
      },
      "source": [
        "%run_challenge_tests unit-1-challenge-2-tests.py"
      ],
      "execution_count": null,
      "outputs": []
    },
    {
      "cell_type": "markdown",
      "metadata": {
        "id": "UtvMAe99LMq6"
      },
      "source": [
        "---"
      ]
    },
    {
      "cell_type": "markdown",
      "metadata": {
        "id": "NPbKatZuafa4"
      },
      "source": [
        "## Challenge 03"
      ]
    },
    {
      "cell_type": "markdown",
      "metadata": {
        "id": "uUGFvksNIJAh"
      },
      "source": [
        "* Consider the 2-d array below:"
      ]
    },
    {
      "cell_type": "code",
      "metadata": {
        "id": "NOaCtJA8INkt"
      },
      "source": [
        "arr_03 = np.array([[59,26,51,15], [24,93,28,100], [30,15,29,50],[14,18,82,94]])\n",
        "arr_03"
      ],
      "execution_count": null,
      "outputs": []
    },
    {
      "cell_type": "markdown",
      "metadata": {
        "id": "fjWi4WIFafa4"
      },
      "source": [
        "* Using the array above (arr_03), your NumPy knowledge, and your Python knowledge with print statment function and displaying variables using f-string, print the following statement:\n",
        "  * **\"The max value for the array is 100 and its index location is 7. The min value for the array is 14 and its index location is 12.\"**\n",
        "  * Naturally, it is not expected that you hard code (copy and paste) the previous statement in a print() statement. \n",
        "  * The objective is to create a statement that is able to calculate the min/max and its index position for any array"
      ]
    },
    {
      "cell_type": "code",
      "metadata": {
        "id": "GjayFYLqwX76"
      },
      "source": [
        "%%run_and_save challenge_3.py\n",
        "# Do not delete the line of code above\n",
        "# Write your solution in this cell\n",
        "\n",
        "print(f\"The max value for the array is {arr_03.max()} and its index location is {arr_03.argmax()}.\")\n",
        "print(f\"The min value for the array is {arr_03.min()} and its index location is {arr_03.argmin()}.\")"
      ],
      "execution_count": null,
      "outputs": []
    },
    {
      "cell_type": "markdown",
      "metadata": {
        "id": "IwUKpEhzzmDu"
      },
      "source": [
        "* **Challenge 3 Unit Test**\n",
        "  * Run this cell to run a Unit Test for Challenge 01\n",
        "  * Do not adjust the content of this cell "
      ]
    },
    {
      "cell_type": "code",
      "metadata": {
        "id": "6OT36ToaclGb"
      },
      "source": [
        "%run_challenge_tests unit-1-challenge-3-tests.py"
      ],
      "execution_count": null,
      "outputs": []
    },
    {
      "cell_type": "markdown",
      "metadata": {
        "id": "UiY25OAxLOsZ"
      },
      "source": [
        "---"
      ]
    },
    {
      "cell_type": "markdown",
      "metadata": {
        "id": "vMzzIHuqz5uj"
      },
      "source": [
        "## Submission Section\n",
        "  * **Click the run button** to submit your tests\n",
        "  * Do not adjust the content of this cell"
      ]
    },
    {
      "cell_type": "code",
      "metadata": {
        "id": "tySQCn4qq2te"
      },
      "source": [
        "%submit_tests numpy_unit_1_submission.py 3"
      ],
      "execution_count": null,
      "outputs": []
    },
    {
      "cell_type": "markdown",
      "metadata": {
        "id": "nDegKBG2LP1w"
      },
      "source": [
        "---"
      ]
    },
    {
      "cell_type": "markdown",
      "metadata": {
        "id": "rn519h42wg_-"
      },
      "source": [
        "## Well done!\n",
        "\n"
      ]
    },
    {
      "cell_type": "markdown",
      "metadata": {
        "id": "JqcNUuSteaDm"
      },
      "source": [
        "* Before saving the notebook, we suggest you to clear all code cells outputs. That will reduce the file size.\n",
        "  * This is optional, it doesn't affect the notebook content. It just will speed up the saving time and reduce file size.\n",
        "  * To clear outputs go to: Edit  → Clear all outputs\n",
        "\n",
        "* Save this notebook. \n",
        "  * Go to: File → Save a copy in GitHub\n",
        "  * In the **Repository** menu, select your username followed by the Repo you want to save the file.\n",
        "  * The **branch** should be main.\n",
        "  * You may write a custom message at \"Commit Message\", or leave as it is.\n",
        "  * You shall **tick** \"Include a link to Colaboratory\", so you can have a shortcut to open your notebook at Colab when previewing the notebook at GitHub.\n",
        "* Once you **receive a confirmation it was pushed to the Repo**, close this notebook and proceed to the next content!"
      ]
    }
  ]
}